{
 "cells": [
  {
   "cell_type": "markdown",
   "metadata": {
    "slideshow": {
     "slide_type": "slide"
    }
   },
   "source": [
    "# Advances in Machine Learning with Big Data\n",
    "\n",
    "### Trinity 2021\n",
    "### Jeremy Large\n",
    "#### jeremy.large@economics.ox.ac.uk\n",
    "\n",
    "\n",
    "&#169; Jeremy Large ; shared under [CC BY-NC-ND 4.0](https://creativecommons.org/licenses/by-nc-nd/4.0/)"
   ]
  },
  {
   "cell_type": "code",
   "execution_count": 1,
   "metadata": {
    "slideshow": {
     "slide_type": "skip"
    }
   },
   "outputs": [
    {
     "name": "stdout",
     "output_type": "stream",
     "text": [
      "Populating the interactive namespace from numpy and matplotlib\n"
     ]
    }
   ],
   "source": [
    "%load_ext autoreload\n",
    "%autoreload 2\n",
    "%pylab inline\n",
    "plt.rcParams['figure.figsize'] = [12, 4]\n",
    "\n",
    "import sys, os\n",
    "from mpl_toolkits.mplot3d import axes3d\n",
    "import logging\n",
    "logging.basicConfig(format='%(asctime)s %(levelname)s:%(message)s', level=logging.INFO)\n",
    "\n",
    "import warnings\n",
    "warnings.filterwarnings('ignore')\n",
    "\n",
    "# point at library; I need some lessons on doing good PYTHONPATHs:\n",
    "REPO_DIR = os.path.dirname(os.getcwd())\n",
    "UCI_LIB = os.path.join(REPO_DIR, 'lib')\n",
    "sys.path.append(UCI_LIB)\n",
    "\n",
    "import numpy as np  \n",
    "import pandas as pd  \n",
    "\n",
    "#  pull in scikit-learn libraries:\n",
    "from sklearn import linear_model\n",
    "from sklearn import model_selection\n",
    "\n",
    "import sbs_sklearn    # module where I've put some functions from the last class\n",
    "from uci_retail_data import uci_files, stock_codes"
   ]
  },
  {
   "cell_type": "markdown",
   "metadata": {
    "slideshow": {
     "slide_type": "slide"
    }
   },
   "source": [
    "## 6. Classification"
   ]
  },
  {
   "cell_type": "markdown",
   "metadata": {
    "slideshow": {
     "slide_type": "slide"
    }
   },
   "source": [
    "## Contents Weeks 1-4:\n",
    "\n",
    "1. Introducing this course's dataset\n",
    "\n",
    "1. Being an econometrician _and_ a data scientist\n",
    "\n",
    "1. Overfit and regularization\n",
    "\n",
    "1. Regularization through predictor/feature selection (Lasso etc.)\n",
    "\n",
    "1. Resampling methods, and model selection\n",
    "\n",
    "1. **Classification**\n",
    "\n",
    "1. Decision trees, bagging, and random forests\n",
    "\n",
    "1. Make a start on neural networks"
   ]
  },
  {
   "cell_type": "markdown",
   "metadata": {
    "slideshow": {
     "slide_type": "skip"
    }
   },
   "source": [
    "Load data per previous classes ..."
   ]
  },
  {
   "cell_type": "code",
   "execution_count": 2,
   "metadata": {
    "slideshow": {
     "slide_type": "skip"
    }
   },
   "outputs": [
    {
     "name": "stderr",
     "output_type": "stream",
     "text": [
      "2021-05-06 09:23:34,686 INFO:Loading C:\\Users\\jerem\\Documents\\work\\Oxford\\SBS\\MLBD\\ox-sbs-ml-bd\\data\\raw.csv , sheet Year 2009-2010\n",
      "2021-05-06 09:23:38,250 INFO:Loaded C:\\Users\\jerem\\Documents\\work\\Oxford\\SBS\\MLBD\\ox-sbs-ml-bd\\data\\raw.csv , sheet number one, obviously\n"
     ]
    }
   ],
   "source": [
    "df = uci_files.standard_uci_data_access()"
   ]
  },
  {
   "cell_type": "code",
   "execution_count": 3,
   "metadata": {
    "slideshow": {
     "slide_type": "skip"
    }
   },
   "outputs": [],
   "source": [
    "invalids = stock_codes.invalid_series(df)"
   ]
  },
  {
   "cell_type": "code",
   "execution_count": 4,
   "metadata": {
    "slideshow": {
     "slide_type": "skip"
    }
   },
   "outputs": [],
   "source": [
    "invoices = stock_codes.invoice_df(df, invalid_series=invalids)"
   ]
  },
  {
   "cell_type": "markdown",
   "metadata": {
    "slideshow": {
     "slide_type": "slide"
    }
   },
   "source": [
    "### Instead of doing *regression*, lets build data for a **classification** task:"
   ]
  },
  {
   "cell_type": "code",
   "execution_count": 5,
   "metadata": {
    "slideshow": {
     "slide_type": "fragment"
    }
   },
   "outputs": [],
   "source": [
    "invoices['log_item_spend'] = np.log(invoices.invoice_spend / invoices.items_in_invoice)\n",
    "invoices['log_n_codes'] = np.log(invoices.codes_in_invoice)\n",
    "\n",
    "# predictors = ['log_n_codes', 'hour', 'month', 'words_per_item']   # commented-out: this was the regression setup\n",
    "predictors = ['log_n_codes', 'log_item_spend', 'month', 'words_per_item']\n",
    "\n",
    "# y = invoices.log_item_spend   # commented-out: this was the regression setup\n",
    "y = invoices.hour\n",
    "X = invoices[predictors] "
   ]
  },
  {
   "cell_type": "markdown",
   "metadata": {},
   "source": [
    "*Can we predict the hour of the day from characteristics of the basket?*"
   ]
  },
  {
   "cell_type": "code",
   "execution_count": 6,
   "metadata": {
    "slideshow": {
     "slide_type": "skip"
    }
   },
   "outputs": [],
   "source": [
    "from sklearn import preprocessing\n",
    "poly = preprocessing.PolynomialFeatures(4, include_bias=False)\n",
    "polynomial_X = pd.DataFrame(poly.fit_transform(X.values))\n",
    "polynomial_X.columns = poly.get_feature_names(X.columns)"
   ]
  },
  {
   "cell_type": "code",
   "execution_count": 7,
   "metadata": {
    "slideshow": {
     "slide_type": "skip"
    }
   },
   "outputs": [],
   "source": [
    "poly_std_X = ((polynomial_X - polynomial_X.mean()) / polynomial_X.std())"
   ]
  },
  {
   "cell_type": "markdown",
   "metadata": {
    "slideshow": {
     "slide_type": "slide"
    }
   },
   "source": [
    "### What do we actually do when we predict from $X$?"
   ]
  },
  {
   "cell_type": "markdown",
   "metadata": {
    "slideshow": {
     "slide_type": "fragment"
    }
   },
   "source": [
    "* We form a distribution for $y$, conditional on regressors."
   ]
  },
  {
   "cell_type": "markdown",
   "metadata": {},
   "source": [
    "### How about when we *classify* $X$?"
   ]
  },
  {
   "cell_type": "markdown",
   "metadata": {
    "slideshow": {
     "slide_type": "fragment"
    }
   },
   "source": [
    "We pick one object from a set. And act accordingly."
   ]
  },
  {
   "cell_type": "markdown",
   "metadata": {
    "slideshow": {
     "slide_type": "fragment"
    }
   },
   "source": [
    "So now we model a $y$ which falls in a finite (maybe countable) set of categories, $\\mathcal C$."
   ]
  },
  {
   "cell_type": "markdown",
   "metadata": {
    "slideshow": {
     "slide_type": "fragment"
    }
   },
   "source": [
    "* e.g.     $\\ \\ \\ \\mathcal C = $ `{'negative', 'positive', 'variant', 'unresolved'}`\n",
    "* we might think of these as (linked to) actions\n",
    "* no ordinal structure"
   ]
  },
  {
   "cell_type": "code",
   "execution_count": 8,
   "metadata": {
    "slideshow": {
     "slide_type": "fragment"
    }
   },
   "outputs": [
    {
     "name": "stdout",
     "output_type": "stream",
     "text": [
      "In our example, \\mathcal C is {7, 8, 9, 10, 11, 12, 13, 14, 15, 16, 17, 18, 19, 20}\n"
     ]
    }
   ],
   "source": [
    "print(f\"In our example, \\mathcal C is {set(y)}\")"
   ]
  },
  {
   "cell_type": "markdown",
   "metadata": {
    "slideshow": {
     "slide_type": "slide"
    }
   },
   "source": [
    "**Supervised learning**: an i.i.d. sequence of observations, $\\{(y_i, x_i), i=0, 1, ...\\}$. Learn the distribution of the R.V. $y_i$, conditional on the stacked regressors, namely $x$:\n",
    "\\begin{equation}\n",
    "y_i | x \\ \\ \\sim \\ \\ \\mathcal f_{x_i; \\theta},\n",
    "\\end{equation}\n",
    "\n",
    "where the $\\theta$ stands-in for our parameters."
   ]
  },
  {
   "cell_type": "markdown",
   "metadata": {
    "slideshow": {
     "slide_type": "fragment"
    }
   },
   "source": [
    "Recall, in the **linear regression:**\n",
    "\n",
    "$\\mathcal f_{x_i; \\theta} \\ \\sim \\ \\mathcal N ( x_i ' \\beta, \\sigma^2).$\n"
   ]
  },
  {
   "cell_type": "markdown",
   "metadata": {
    "slideshow": {
     "slide_type": "fragment"
    }
   },
   "source": [
    "But, today we're looking at a **categorical model**: \n",
    "\n",
    "$f_{x_i; \\theta} \\ \\sim \\ $ a discrete distribution on $\\mathcal C$ that depends on data $x_i$ and the parameters $\\theta$. "
   ]
  },
  {
   "cell_type": "markdown",
   "metadata": {
    "slideshow": {
     "slide_type": "subslide"
    }
   },
   "source": [
    "### **categorical model**: \n",
    "\n",
    "* a discrete distribution $f_{x_i; \\theta}$ conditional on data $x_i$ and parameters $\\theta$. "
   ]
  },
  {
   "cell_type": "code",
   "execution_count": 9,
   "metadata": {
    "slideshow": {
     "slide_type": "skip"
    }
   },
   "outputs": [],
   "source": [
    "hist_opts = dict(bins=len(set(y)), \n",
    "                 alpha=0.2, \n",
    "                 density=True, \n",
    "                 title=\"Non-parametric histogram, giving the distribution of hours when $x_i$'s month is Feb 2010\")"
   ]
  },
  {
   "cell_type": "code",
   "execution_count": 10,
   "metadata": {
    "slideshow": {
     "slide_type": "fragment"
    }
   },
   "outputs": [
    {
     "data": {
      "image/png": "[encoded data removed]",
      "text/plain": [
       "<Figure size 864x288 with 1 Axes>"
      ]
     },
     "metadata": {
      "needs_background": "light"
     },
     "output_type": "display_data"
    }
   ],
   "source": [
    "_ = y.loc[X.month == 201002].plot.hist(**hist_opts)"
   ]
  },
  {
   "cell_type": "markdown",
   "metadata": {
    "slideshow": {
     "slide_type": "fragment"
    }
   },
   "source": [
    "If we want to write more about $f_{x_i; \\theta}$, we could use dummies, $y$ and $j$, to say:\n",
    "\n",
    "\\begin{equation}\n",
    "\\mathcal f_{x_i; \\theta}(y) \\ \\ \\ \\ = \\ \\ \\ \\ \\text{Pr}(y = j \\  | \\ x_i \\ ; \\ \\theta) \\ \\ \\ , \\text{  for all } j \\in \\mathcal C.\n",
    "\\end{equation} "
   ]
  },
  {
   "cell_type": "code",
   "execution_count": 11,
   "metadata": {
    "slideshow": {
     "slide_type": "skip"
    }
   },
   "outputs": [],
   "source": [
    "hist_opts.update(dict(title=\"There's potentially a different histogram for each possible $x_i$ (here I bin by month)\"))"
   ]
  },
  {
   "cell_type": "code",
   "execution_count": 12,
   "metadata": {
    "slideshow": {
     "slide_type": "subslide"
    }
   },
   "outputs": [
    {
     "data": {
      "image/png": "[encoded data removed]",
      "text/plain": [
       "<Figure size 864x288 with 1 Axes>"
      ]
     },
     "metadata": {
      "needs_background": "light"
     },
     "output_type": "display_data"
    }
   ],
   "source": [
    "for month in set(X.month): y.loc[X.month == month].plot.hist(**hist_opts)"
   ]
  },
  {
   "cell_type": "markdown",
   "metadata": {
    "slideshow": {
     "slide_type": "slide"
    }
   },
   "source": [
    "### The Bayes Classifier:\n",
    "\n",
    "An ideal benchmark"
   ]
  },
  {
   "cell_type": "markdown",
   "metadata": {},
   "source": [
    "Introduction to Statistical Learning 2.2.3:\n",
    "\n",
    "* the *test error rate* is minimized, on average, if one *assigns each observation to the most likely class, given its predictor values*."
   ]
  },
  {
   "cell_type": "markdown",
   "metadata": {
    "slideshow": {
     "slide_type": "fragment"
    }
   },
   "source": [
    "So, speaking 'graphically' ...\n",
    "\n",
    "imagine the perfect situation where you know $\\theta$. \n",
    "\n",
    "Then to classify observation $i$, select the appropriate histogram for the $x_i$, and take its highest (modal) point."
   ]
  },
  {
   "cell_type": "markdown",
   "metadata": {
    "slideshow": {
     "slide_type": "subslide"
    }
   },
   "source": [
    "Comments on the Bayes Classifier: \n",
    "\n",
    "* It targets **test error rate**: so evenhanded as between type-1 or type-2 error.\n",
    "   * Whenever $|\\mathcal C | > 2$, there's no such thing as type-1/2 error anyway.\n",
    "   "
   ]
  },
  {
   "cell_type": "markdown",
   "metadata": {
    "slideshow": {
     "slide_type": "fragment"
    }
   },
   "source": [
    "* Even though it's perfect, the Bayes Classifier still get lots wrong.\n",
    "   * this is like how a regression's point-estimates are almost always wrong."
   ]
  },
  {
   "cell_type": "markdown",
   "metadata": {
    "slideshow": {
     "slide_type": "slide"
    }
   },
   "source": [
    "### Emulating Bayes Classification when we're fitting models"
   ]
  },
  {
   "cell_type": "markdown",
   "metadata": {},
   "source": [
    "As before, we will have to postulate a model, $\\hat f_{x_i; \\theta}$, and then we will have to fit $\\hat \\theta$."
   ]
  },
  {
   "cell_type": "markdown",
   "metadata": {
    "slideshow": {
     "slide_type": "fragment"
    }
   },
   "source": [
    "Next, we simply copy Bayes Classification, so for observation $i$, \n",
    "1. get the histogram for $x_i$ from the fitted model, \n",
    "1. and take its highest (modal) point.\n",
    "1. this is the classification, $\\hat y$."
   ]
  },
  {
   "cell_type": "markdown",
   "metadata": {
    "slideshow": {
     "slide_type": "slide"
    }
   },
   "source": [
    "### [Multinomial Logit](https://en.wikipedia.org/wiki/Multinomial_logistic_regression#Model)\n",
    "\n",
    "Canonical classification model. We will shortly implement this in `scikit-learn`."
   ]
  },
  {
   "cell_type": "markdown",
   "metadata": {
    "slideshow": {
     "slide_type": "fragment"
    }
   },
   "source": [
    "For each $k \\in \\mathcal C$, have a coefficient vector $\\beta_k$.\n",
    "* that can add up to a lot of coefficients ..."
   ]
  },
  {
   "cell_type": "markdown",
   "metadata": {
    "slideshow": {
     "slide_type": "fragment"
    }
   },
   "source": [
    "Given features $x_i$, form a score ('logit') for each possibility $k$:\n",
    "\\begin{equation}\n",
    "\\text{score}(x_i, k) = \\beta_k ' x_i\n",
    "\\end{equation}"
   ]
  },
  {
   "cell_type": "markdown",
   "metadata": {
    "slideshow": {
     "slide_type": "subslide"
    }
   },
   "source": [
    "We would *love* to use this score(/logit) to model the log-probability of $k$ given $x_i$:\n",
    "\n",
    "\\begin{equation}\n",
    "\\text{  Pr}(y_i = k \\  | \\ x_i \\ ; \\ \\beta) = e^{\\text{score}(x_i, k)}\n",
    "\\end{equation} "
   ]
  },
  {
   "cell_type": "markdown",
   "metadata": {
    "slideshow": {
     "slide_type": "fragment"
    }
   },
   "source": [
    "But probabilities must add to one! \n",
    "\n",
    "So, adjust this approach slightly:\n",
    "* For each $x_i$ to be classified, use the [softmax function](https://en.wikipedia.org/wiki/Softmax_function) on the vector of scores. \n",
    "* Worth reading-up on this - it just adds the right normalization."
   ]
  },
  {
   "cell_type": "markdown",
   "metadata": {
    "slideshow": {
     "slide_type": "slide"
    }
   },
   "source": [
    "### Create our learner:"
   ]
  },
  {
   "cell_type": "code",
   "execution_count": 13,
   "metadata": {},
   "outputs": [],
   "source": [
    "logistic = linear_model.LogisticRegression()"
   ]
  },
  {
   "cell_type": "markdown",
   "metadata": {
    "slideshow": {
     "slide_type": "fragment"
    }
   },
   "source": [
    "Do a 25-fold split of the data:"
   ]
  },
  {
   "cell_type": "code",
   "execution_count": 14,
   "metadata": {},
   "outputs": [],
   "source": [
    "N_FOLDS = 50\n",
    "kfold = model_selection.KFold(n_splits=N_FOLDS, shuffle=True)\n",
    "train, test = next(kfold.split(poly_std_X, y))"
   ]
  },
  {
   "cell_type": "markdown",
   "metadata": {
    "slideshow": {
     "slide_type": "subslide"
    }
   },
   "source": [
    "**Fitting the multinomial logit** means, in scikit-learn world, maximizing a regularized likelihood:"
   ]
  },
  {
   "cell_type": "code",
   "execution_count": 15,
   "metadata": {},
   "outputs": [
    {
     "data": {
      "text/plain": [
       "LogisticRegression(C=1.0, class_weight=None, dual=False, fit_intercept=True,\n",
       "                   intercept_scaling=1, l1_ratio=None, max_iter=100,\n",
       "                   multi_class='auto', n_jobs=None, penalty='l2',\n",
       "                   random_state=None, solver='lbfgs', tol=0.0001, verbose=0,\n",
       "                   warm_start=False)"
      ]
     },
     "execution_count": 15,
     "metadata": {},
     "output_type": "execute_result"
    }
   ],
   "source": [
    "logistic.fit(poly_std_X.values[train], y.values[train])"
   ]
  },
  {
   "cell_type": "code",
   "execution_count": 16,
   "metadata": {
    "slideshow": {
     "slide_type": "subslide"
    }
   },
   "outputs": [
    {
     "data": {
      "image/png": "[encoded data removed]",
      "text/plain": [
       "<Figure size 864x288 with 1 Axes>"
      ]
     },
     "metadata": {
      "needs_background": "light"
     },
     "output_type": "display_data"
    }
   ],
   "source": [
    "plt.plot(logistic.predict(poly_std_X.values[test]), ls='None', marker = 'x')\n",
    "_ = plt.title('predictions on the test data ... we will need a way to evaluate these.')"
   ]
  },
  {
   "cell_type": "code",
   "execution_count": 17,
   "metadata": {},
   "outputs": [
    {
     "data": {
      "text/plain": [
       "(14, 69)"
      ]
     },
     "execution_count": 17,
     "metadata": {},
     "output_type": "execute_result"
    }
   ],
   "source": [
    "logistic.coef_.shape"
   ]
  },
  {
   "cell_type": "markdown",
   "metadata": {
    "slideshow": {
     "slide_type": "fragment"
    }
   },
   "source": [
    "Further references:\n",
    "* [Scikit-learn docstring](https://scikit-learn.org/stable/modules/generated/sklearn.linear_model.LogisticRegression.html)\n",
    "* [Scikit-learn theory](https://scikit-learn.org/stable/modules/linear_model.html#logistic-regression)\n",
    "* [Categorical cross-entropy](https://en.wikipedia.org/wiki/Cross_entropy#Relation_to_log-likelihood) and its relation to log-likelihood"
   ]
  },
  {
   "cell_type": "markdown",
   "metadata": {
    "slideshow": {
     "slide_type": "subslide"
    }
   },
   "source": [
    "### Confusion matrix"
   ]
  },
  {
   "cell_type": "code",
   "execution_count": 18,
   "metadata": {},
   "outputs": [
    {
     "data": {
      "image/png": "[encoded data removed]",
      "text/plain": [
       "<Figure size 864x288 with 2 Axes>"
      ]
     },
     "metadata": {
      "needs_background": "light"
     },
     "output_type": "display_data"
    }
   ],
   "source": [
    "from sklearn import metrics\n",
    "_ = metrics.plot_confusion_matrix(logistic, poly_std_X.values[test], y.values[test])"
   ]
  },
  {
   "cell_type": "markdown",
   "metadata": {},
   "source": [
    "The proportion of observations that lie on the diagonal is the [Accuracy Score](https://scikit-learn.org/stable/modules/model_evaluation.html#accuracy-score).\n",
    "\n",
    "But this is (perhaps the leading) one of several metrics summarized in this [wikipedia entry](https://en.wikipedia.org/wiki/Confusion_matrix).\n",
    "\n",
    "[`scikit-learn` on this](https://scikit-learn.org/stable/modules/model_evaluation.html#classification-metrics)."
   ]
  },
  {
   "cell_type": "markdown",
   "metadata": {
    "slideshow": {
     "slide_type": "slide"
    }
   },
   "source": [
    "**Exercise** -  interpret this table:"
   ]
  },
  {
   "cell_type": "code",
   "execution_count": 19,
   "metadata": {},
   "outputs": [
    {
     "name": "stdout",
     "output_type": "stream",
     "text": [
      "              precision    recall  f1-score   support\n",
      "\n",
      "           8       0.00      0.00      0.00         0\n",
      "           9       0.03      1.00      0.06         1\n",
      "          10       0.06      0.04      0.05        52\n",
      "          11       0.02      0.17      0.03         6\n",
      "          12       0.69      0.20      0.31       271\n",
      "          13       0.27      0.22      0.24        69\n",
      "          14       0.02      0.10      0.03        10\n",
      "          15       0.00      0.00      0.00         2\n",
      "          16       0.00      0.00      0.00         0\n",
      "          17       0.00      0.00      0.00         1\n",
      "          18       0.00      0.00      0.00         0\n",
      "          19       0.00      0.00      0.00         0\n",
      "\n",
      "    accuracy                           0.18       412\n",
      "   macro avg       0.09      0.14      0.06       412\n",
      "weighted avg       0.51      0.18      0.25       412\n",
      "\n"
     ]
    }
   ],
   "source": [
    "print(metrics.classification_report(logistic.predict(poly_std_X.values[test]), y.values[test]) )"
   ]
  },
  {
   "cell_type": "markdown",
   "metadata": {
    "slideshow": {
     "slide_type": "slide"
    }
   },
   "source": [
    "#### The Bayes Classifier when $|\\mathcal C| = 2$"
   ]
  },
  {
   "cell_type": "markdown",
   "metadata": {},
   "source": [
    "Example: COVID-19 test. $\\mathcal C =$ {positive, negative}.\n",
    "\n",
    "*Exercise*: Show that Bayes Classifier must pick 'positive' iff:\n",
    "\\begin{equation}\n",
    "\\text{Pr}(y = \\text{'positive'} \\  | \\ x_i \\ ; \\ \\theta) > T,\n",
    "\\end{equation} \n",
    "where $T= 0.5$."
   ]
  },
  {
   "cell_type": "markdown",
   "metadata": {
    "slideshow": {
     "slide_type": "fragment"
    }
   },
   "source": [
    "As we know, this minimizes the error rate.\n",
    " * But, maybe we care more about false negatives (sensitivity, recall) than false positives (specificity).\n",
    " * -> some types of error matter more.\n",
    " \n",
    "Solution?"
   ]
  },
  {
   "cell_type": "markdown",
   "metadata": {
    "slideshow": {
     "slide_type": "subslide"
    }
   },
   "source": [
    "Solution when we mind more/less about sensitivity than specificity:\n",
    "* Vary $T$, sliding it up and down within the interval (0, 1). I.e. depart from Bayes.\n",
    "* Pick a threshold that suits our loss function.\n",
    "* Or just try each such $T$: one could track the False-Positive Rate, and the True-Positive Rate."
   ]
  },
  {
   "cell_type": "markdown",
   "metadata": {},
   "source": [
    "This gives rise to the [Receiver operating characteristic (ROC) Curve](https://en.wikipedia.org/wiki/Receiver_operating_characteristic#/media/File:Roc-draft-xkcd-style.svg). Two settings:\n",
    "1. the ideal ROC curve\n",
    "2. **the ROC curve of a model in practice**"
   ]
  },
  {
   "cell_type": "markdown",
   "metadata": {
    "slideshow": {
     "slide_type": "slide"
    }
   },
   "source": [
    "## In Conclusion\n",
    "\n",
    "Four corners of machine learning (not exhaustive) and some examples:\n",
    "\n",
    "\n",
    "| ML | Supervised | Unsupervised |  \n",
    "| :--- | :---: | :---: |\n",
    "| **Classification** | multinomial logit |nlp|\n",
    "| **Regression** | linear regression |clustering|\n",
    "\n",
    "All four quadrants are equally important.\n",
    "\n",
    "Today we were 'top-left'.\n",
    "\n",
    "We will develop many of our techniques 'bottom-left' (trees, neural nets, ...), but they can be adapted to be applied elsewhere too."
   ]
  }
 ],
 "metadata": {
  "celltoolbar": "Slideshow",
  "kernelspec": {
   "display_name": "Python 3",
   "language": "python",
   "name": "python3"
  },
  "language_info": {
   "codemirror_mode": {
    "name": "ipython",
    "version": 3
   },
   "file_extension": ".py",
   "mimetype": "text/x-python",
   "name": "python",
   "nbconvert_exporter": "python",
   "pygments_lexer": "ipython3",
   "version": "3.6.12"
  }
 },
 "nbformat": 4,
 "nbformat_minor": 4
}
